{
 "cells": [
  {
   "cell_type": "markdown",
   "metadata": {},
   "source": [
    "<div style=\"padding:30px;color:white;margin:0;font-size:200%;text-align:center;display:fill;border-radius:5px;background-color:#C85C8E;overflow:hidden;font-weight:800\">❤️❤️ Heart Disease Prediction And EDA 📊 📈 </div>\n",
    "\n",
    "\n",
    "\n"
   ]
  },
  {
   "cell_type": "markdown",
   "metadata": {},
   "source": [
    "<div id='imports'\n",
    "     style = \"display: fill;\n",
    "              border-radius: 10px;\n",
    "              background-color: #6867AC;\">\n",
    "    <h2 style = \"padding: 25px; \n",
    "                 color: White;\n",
    "                 text-align: left;\n",
    "                 font-family: Trebuchet MS;\">Table of Contents\n",
    "    </h2>\n",
    "</div>\n",
    "<a id=\"toc\"></a>\n",
    "\n",
    "- [1. Introduction](#1)\n",
    "    - [1.1 Importing Libraries](#IL)\n",
    "    - [1.2 Reading Dataset](#RD)\n",
    "    - [1.3 Dataset Information](#DI)\n",
    "        \n",
    "        \n",
    "- [2. Exploratory Data Analysis](#2)\n",
    "    - [2.1 Categorical Data Visualization](#CDV)\n",
    "    - [2.2 Heart Disease Distribution based on Gender](#HDG)\n",
    "    - [2.3 Heart Disease Distribution based on Major Vessels Total](#HDV)\n",
    "    - [2.4 Heart Disease Scatter Plot based on Age](#HDA)\n",
    "    - [2.5 Heart Disease Distribution based on Fasting Blood Sugar](#HDS)\n",
    "    - [2.6  Heatmap](#heatmap)\n",
    "    \n",
    "    \n",
    "  \n",
    "- [3. Data Preprocessing](#3)\n",
    "    - [3.1 One Hot Encoding](#OHE)\n",
    "    - [3.2 Featuring Separating](#FS)\n",
    "    - [3.3 Data Normalization](#DN)\n",
    "    - [3.4 Splitting the Dataset](#STTD)\n",
    "\n",
    "\n",
    "- [4. Model Training](#4)\n",
    "    - [4.1 Logistic Regression](#LR)\n",
    "    - [4.2  K-Nearest Neighbour (KNN)](#KNN)\n",
    "    - [4.3 Support Vector Machine (SVM)](#SVM)\n",
    "    - [4.4 Gaussian Naive Bayes](#NB)\n",
    "    - [4.5 Decision Tree](#DT)\n",
    "    - [4.6 Random Forest](#RF)\n",
    "    - [4.7 Gradient Boosting](#GB)\n",
    "    - [4.8 AdaBoost](#AB)\n",
    "    - [4.9 Extra Tree Classifier](#ETC)\n",
    "    - [4.10 MODEL COMPARISSION](#MC)\n",
    "\n",
    "- [5. Evaluation](#5)\n",
    "    - [5.1 Accuracy](#ACC)\n",
    "    - [5.2 Confusion Matrix](#CM)\n",
    "    - [5.3 Classification Report](#CR)\n",
    "    - [5.4 Scores From Confusion Matrix](#SCM)\n",
    "    - [5.5 ROC CURVE](#ROC)\n",
    "    - [5.6 ROC AUC Score](#AUC)\n",
    "    - [5.7 Learning Curve](#LC)\n",
    " \n",
    "- [6. Upvote](#6)"
   ]
  },
  {
   "cell_type": "markdown",
   "metadata": {},
   "source": [
    "<div id='1'\n",
    "     style = \"display: fill;\n",
    "              border-radius: 10px;\n",
    "              background-color: #19A7CE;\">\n",
    "    <h1 style = \"padding: 20px; \n",
    "                 color: white;\n",
    "                 text-align: left;\n",
    "                 font-family: Trebuchet MS;\">1.Introduction\n",
    "    </h1>\n",
    "</div>"
   ]
  },
  {
   "cell_type": "markdown",
   "metadata": {},
   "source": [
    "<div id='IL'\n",
    "     style = \"display: fill;\n",
    "              border-radius: 10px;\n",
    "              background-color: #FE6244;\">\n",
    "    <h3 style = \"padding: 15px; \n",
    "                 color: white;\n",
    "                 text-align: left;\n",
    "                 font-family: Trebuchet MS;\">Importing Libraries\n",
    "    </h3>\n",
    "</div>"
   ]
  },
  {
   "cell_type": "code",
   "execution_count": null,
   "metadata": {
    "_cell_guid": "b1076dfc-b9ad-4769-8c92-a6c4dae69d19",
    "_uuid": "8f2839f25d086af736a60e9eeb907d3b93b6e0e5",
    "execution": {
     "iopub.execute_input": "2023-04-15T13:20:44.043104Z",
     "iopub.status.busy": "2023-04-15T13:20:44.042579Z",
     "iopub.status.idle": "2023-04-15T13:20:44.061977Z",
     "shell.execute_reply": "2023-04-15T13:20:44.060672Z",
     "shell.execute_reply.started": "2023-04-15T13:20:44.043063Z"
    }
   },
   "outputs": [],
   "source": [
    "#Data Handling\n",
    "import numpy as np \n",
    "import pandas as pd \n",
    "\n",
    "#Data Visualization\n",
    "import matplotlib.pyplot as plt\n",
    "import seaborn as sns\n",
    "%matplotlib inline\n",
    "from sklearn import tree\n",
    "import graphviz\n",
    "\n",
    "#Preprocessing\n",
    "from sklearn.preprocessing import MinMaxScaler\n",
    "from sklearn.model_selection import train_test_split\n",
    "\n",
    "#Modelsl\n",
    "from sklearn.linear_model import LogisticRegression\n",
    "from sklearn.neighbors import KNeighborsClassifier\n",
    "from sklearn.svm import SVC\n",
    "from sklearn.tree import DecisionTreeClassifier\n",
    "from sklearn.ensemble import RandomForestClassifier, GradientBoostingClassifier,ExtraTreesClassifier, AdaBoostClassifier\n",
    "from xgboost import XGBClassifier\n",
    "from sklearn.naive_bayes import GaussianNB\n",
    "\n",
    "#Evalutaion\n",
    "from sklearn.metrics import accuracy_score,classification_report,confusion_matrix,roc_auc_score\n",
    "from yellowbrick.classifier import PrecisionRecallCurve, ROCAUC, ConfusionMatrix\n",
    "from yellowbrick.style import set_palette\n",
    "from yellowbrick.model_selection import LearningCurve, FeatureImportances\n",
    "from yellowbrick.contrib.wrapper import wrap\n",
    "\n",
    "\n",
    "import os\n",
    "for dirname, _, filenames in os.walk('/kaggle/input'):\n",
    "    for filename in filenames:\n",
    "        print(os.path.join(dirname, filename))\n",
    "\n",
    "\n",
    "\n",
    "import warnings\n",
    "warnings.filterwarnings('ignore')"
   ]
  },
  {
   "cell_type": "markdown",
   "metadata": {},
   "source": [
    "<div id='RD'\n",
    "     style = \"display: fill;\n",
    "              border-radius: 10px;\n",
    "              background-color: #FE6244;\">\n",
    "    <h3 style = \"padding: 15px; \n",
    "                 color: white;\n",
    "                 text-align: left;\n",
    "                 font-family: Trebuchet MS;\">Reading Dataset 👀\n",
    "    </h3>\n",
    "</div>"
   ]
  },
  {
   "cell_type": "code",
   "execution_count": null,
   "metadata": {
    "execution": {
     "iopub.execute_input": "2023-04-15T13:20:44.064198Z",
     "iopub.status.busy": "2023-04-15T13:20:44.063876Z",
     "iopub.status.idle": "2023-04-15T13:20:44.094430Z",
     "shell.execute_reply": "2023-04-15T13:20:44.093337Z",
     "shell.execute_reply.started": "2023-04-15T13:20:44.064170Z"
    }
   },
   "outputs": [],
   "source": [
    "df=pd.read_csv('/kaggle/input/heart-disease-dataset/heart.csv')\n",
    "df.head()"
   ]
  },
  {
   "cell_type": "markdown",
   "metadata": {},
   "source": [
    "<div id='DI'\n",
    "     style = \"display: fill;\n",
    "              border-radius: 10px;\n",
    "              background-color: #FE6244;\">\n",
    "    <h3 style = \"padding: 15px; \n",
    "                 color: white;\n",
    "                 text-align: left;\n",
    "                 font-family: Trebuchet MS;\">Dataset Information\n",
    "    </h3>\n",
    "</div>"
   ]
  },
  {
   "cell_type": "code",
   "execution_count": null,
   "metadata": {
    "_kg_hide-output": true,
    "execution": {
     "iopub.execute_input": "2023-04-15T13:20:44.096420Z",
     "iopub.status.busy": "2023-04-15T13:20:44.096088Z",
     "iopub.status.idle": "2023-04-15T13:20:44.109306Z",
     "shell.execute_reply": "2023-04-15T13:20:44.108322Z",
     "shell.execute_reply.started": "2023-04-15T13:20:44.096390Z"
    }
   },
   "outputs": [],
   "source": [
    "#Information about dataset\n",
    "df.info()"
   ]
  },
  {
   "cell_type": "code",
   "execution_count": null,
   "metadata": {
    "execution": {
     "iopub.execute_input": "2023-04-15T13:20:44.112389Z",
     "iopub.status.busy": "2023-04-15T13:20:44.111917Z",
     "iopub.status.idle": "2023-04-15T13:20:44.121963Z",
     "shell.execute_reply": "2023-04-15T13:20:44.120712Z",
     "shell.execute_reply.started": "2023-04-15T13:20:44.112344Z"
    }
   },
   "outputs": [],
   "source": [
    "# --- Fixing Data Types ---\n",
    "lst=['sex', 'cp', 'fbs', 'restecg', 'exang', 'slope', 'ca', 'thal']\n",
    "df[lst] = df[lst].astype(object)"
   ]
  },
  {
   "cell_type": "code",
   "execution_count": null,
   "metadata": {
    "execution": {
     "iopub.execute_input": "2023-04-15T13:20:44.123579Z",
     "iopub.status.busy": "2023-04-15T13:20:44.123125Z",
     "iopub.status.idle": "2023-04-15T13:20:44.132634Z",
     "shell.execute_reply": "2023-04-15T13:20:44.131835Z",
     "shell.execute_reply.started": "2023-04-15T13:20:44.123543Z"
    }
   },
   "outputs": [],
   "source": [
    "df.shape"
   ]
  },
  {
   "cell_type": "markdown",
   "metadata": {},
   "source": [
    "<div id='2'\n",
    "     style = \"display: fill;\n",
    "              border-radius: 10px;\n",
    "              background-color: #19A7CE;\">\n",
    "    <h1 style = \"padding: 20px; \n",
    "                 color: white;\n",
    "                 text-align: left;\n",
    "                 font-family: Trebuchet MS;\">2. Exploratory Data Analysis 📊 📈\n",
    "    </h1>\n",
    "</div>"
   ]
  },
  {
   "cell_type": "markdown",
   "metadata": {},
   "source": [
    "<div id='CDV'\n",
    "     style = \"display: fill;\n",
    "              border-radius: 10px;\n",
    "              background-color: #FE6244;\">\n",
    "    <h2 style = \"padding: 15px; \n",
    "                 color: white;\n",
    "                 text-align: left;\n",
    "                 font-family: Trebuchet MS;\"> Categorical Data Visulization\n",
    "    </h2>\n",
    "</div>"
   ]
  },
  {
   "cell_type": "markdown",
   "metadata": {},
   "source": [
    "<div id='sex'\n",
    "     style = \"display: fill;\n",
    "              border-radius: 10px;\n",
    "              background-color: #FE6244;\">\n",
    "    <h3 style = \"padding: 15px; \n",
    "                 color: white;\n",
    "                 text-align: left; \n",
    "                 font-family: Trebuchet MS;\">Sex (GENDER)👩 👨\n",
    "    </h3>\n",
    "</div>"
   ]
  },
  {
   "cell_type": "code",
   "execution_count": null,
   "metadata": {
    "execution": {
     "iopub.execute_input": "2023-04-15T13:20:44.136496Z",
     "iopub.status.busy": "2023-04-15T13:20:44.134158Z",
     "iopub.status.idle": "2023-04-15T13:20:44.496351Z",
     "shell.execute_reply": "2023-04-15T13:20:44.494946Z",
     "shell.execute_reply.started": "2023-04-15T13:20:44.136461Z"
    }
   },
   "outputs": [],
   "source": [
    "labels=['Female', 'Male']\n",
    "order=df['sex'].value_counts().index\n",
    "\n",
    "# Size for Both Figures\n",
    "plt.figure(figsize= (16,8))\n",
    "plt.suptitle('Sex (Gender) Distribution')\n",
    "\n",
    "# Subplot 1 Pie Chart\n",
    "plt.subplot(1,2,1)\n",
    "plt.title('Pie Chart')\n",
    "plt.pie(df['sex'].value_counts(),labels=labels, autopct='%.2f%%', wedgeprops=dict(alpha=0.8))\n",
    "centre=plt.Circle((0, 0), 0.45, fc='white')\n",
    "plt.gcf().gca().add_artist(centre)\n",
    "\n",
    "#Subplot 2 Histogram\n",
    "countplt = plt.subplot(1,2,2)\n",
    "plt.title('Histogram')\n",
    "ax= sns.countplot(x='sex',data=df,order=order)\n",
    "plt.xlabel('Gender')\n",
    "plt.ylabel('Total')\n",
    "countplt\n",
    "\n",
    "# Count Categorical Labels without dropping Null Values\n",
    "print('\\n Sex (Gender) Total \\n')\n",
    "df.sex.value_counts(dropna=False)\n",
    "# print()"
   ]
  },
  {
   "cell_type": "markdown",
   "metadata": {},
   "source": [
    "<div id='1'\n",
    "     style = \"display: fill;\n",
    "              border-radius: 10px;\n",
    "              background-color: #FE6244;\">\n",
    "    <h3 style = \"padding: 15px; \n",
    "                 color: white;\n",
    "                 text-align: left; \n",
    "                 font-family: Trebuchet MS;\">cp (Chest Pain Type)\n",
    "    </h3>\n",
    "</div>"
   ]
  },
  {
   "cell_type": "code",
   "execution_count": null,
   "metadata": {
    "execution": {
     "iopub.execute_input": "2023-04-15T13:20:44.498333Z",
     "iopub.status.busy": "2023-04-15T13:20:44.497960Z",
     "iopub.status.idle": "2023-04-15T13:20:44.855073Z",
     "shell.execute_reply": "2023-04-15T13:20:44.853984Z",
     "shell.execute_reply.started": "2023-04-15T13:20:44.498299Z"
    }
   },
   "outputs": [],
   "source": [
    "labels=['Type 0', 'Type 2', 'Type 1', 'Type 3']\n",
    "order=df['cp'].value_counts().index\n",
    "\n",
    "# Size for Both Figures\n",
    "plt.figure(figsize= (16,8))\n",
    "plt.suptitle('Chest Pain Type Distribution')\n",
    "\n",
    "# Subplot 1 Pie Chart\n",
    "plt.subplot(1,2,1)\n",
    "plt.title('Pie Chart')\n",
    "plt.pie(df['cp'].value_counts(),labels=labels, autopct='%.2f%%', wedgeprops=dict(alpha=0.8))\n",
    "centre=plt.Circle((0, 0), 0.45, fc='white')\n",
    "plt.gcf().gca().add_artist(centre)\n",
    "\n",
    "#Subplot 2 Histogram\n",
    "countplt = plt.subplot(1,2,2)\n",
    "plt.title('Histogram')\n",
    "ax= sns.countplot(x='cp',data=df,order=order)\n",
    "plt.xlabel('Pain Type')\n",
    "plt.ylabel('Total')\n",
    "countplt\n",
    "\n",
    "# Count Categorical Labels without dropping Null Values\n",
    "print('\\n Chest Pain Type Total \\n')\n",
    "df.sex.value_counts(dropna=False)\n",
    "# print()"
   ]
  },
  {
   "cell_type": "markdown",
   "metadata": {},
   "source": [
    "<div id='1'\n",
    "     style = \"display: fill;\n",
    "              border-radius: 10px;\n",
    "              background-color: #FE6244;\">\n",
    "    <h3 style = \"padding: 15px; \n",
    "                 color: white;\n",
    "                 text-align: left; \n",
    "                 font-family: Trebuchet MS;\"> fbs (Fasting Blood Sugar)\n",
    "    </h3>\n",
    "</div>"
   ]
  },
  {
   "cell_type": "code",
   "execution_count": null,
   "metadata": {
    "execution": {
     "iopub.execute_input": "2023-04-15T13:20:44.858467Z",
     "iopub.status.busy": "2023-04-15T13:20:44.858119Z",
     "iopub.status.idle": "2023-04-15T13:20:45.192545Z",
     "shell.execute_reply": "2023-04-15T13:20:45.191339Z",
     "shell.execute_reply.started": "2023-04-15T13:20:44.858433Z"
    }
   },
   "outputs": [],
   "source": [
    "labels=['< 120 mg/dl', '> 120 mg/dl']\n",
    "order=df['fbs'].value_counts().index\n",
    "\n",
    "# Size for Both Figures\n",
    "plt.figure(figsize= (16,8))\n",
    "plt.suptitle('Fasting Blood Sugar Distribution')\n",
    "\n",
    "# Subplot 1 Pie Chart\n",
    "plt.subplot(1,2,1)\n",
    "plt.title('Pie Chart')\n",
    "plt.pie(df['fbs'].value_counts(),labels=labels, autopct='%.2f%%', wedgeprops=dict(alpha=0.8))\n",
    "centre=plt.Circle((0, 0), 0.45, fc='white')\n",
    "plt.gcf().gca().add_artist(centre)\n",
    "\n",
    "#Subplot 2 Histogram\n",
    "countplt = plt.subplot(1,2,2)\n",
    "plt.title('Histogram')\n",
    "ax= sns.countplot(x='fbs',data=df,order=order)\n",
    "plt.xlabel('Fasting Blood Sugar')\n",
    "plt.ylabel('Total')\n",
    "countplt\n",
    "\n",
    "# Count Categorical Labels without dropping Null Values\n",
    "print('\\n Fasting BLood Sugar Total \\n')\n",
    "df.sex.value_counts(dropna=False)\n",
    "# print()"
   ]
  },
  {
   "cell_type": "markdown",
   "metadata": {},
   "source": [
    "<div id='1'\n",
    "     style = \"display: fill;\n",
    "              border-radius: 10px;\n",
    "              background-color: #FE6244;\">\n",
    "    <h3 style = \"padding: 15px; \n",
    "                 color: white;\n",
    "                 text-align: left; \n",
    "                 font-family: Trebuchet MS;\"> restecg (Resting Electrocardiographic Results)\n",
    "    </h3>\n",
    "</div>"
   ]
  },
  {
   "cell_type": "code",
   "execution_count": null,
   "metadata": {
    "execution": {
     "iopub.execute_input": "2023-04-15T13:20:45.194501Z",
     "iopub.status.busy": "2023-04-15T13:20:45.194161Z",
     "iopub.status.idle": "2023-04-15T13:20:45.545405Z",
     "shell.execute_reply": "2023-04-15T13:20:45.544086Z",
     "shell.execute_reply.started": "2023-04-15T13:20:45.194465Z"
    }
   },
   "outputs": [],
   "source": [
    "labels=['1', '0', '2']\n",
    "order=df['restecg'].value_counts().index\n",
    "\n",
    "# Size for Both Figures\n",
    "plt.figure(figsize= (16,8))\n",
    "plt.suptitle('Resting Electrocardiographic Distribution')\n",
    "\n",
    "# Subplot 1 Pie Chart\n",
    "plt.subplot(1,2,1)\n",
    "plt.title('Pie Chart')\n",
    "plt.pie(df['restecg'].value_counts(),labels=labels, autopct='%.2f%%', wedgeprops=dict(alpha=0.8))\n",
    "centre=plt.Circle((0, 0), 0.45, fc='white')\n",
    "plt.gcf().gca().add_artist(centre)\n",
    "\n",
    "#Subplot 2 Histogram\n",
    "countplt = plt.subplot(1,2,2)\n",
    "plt.title('Histogram')\n",
    "ax= sns.countplot(x='restecg',data=df,order=order)\n",
    "plt.xlabel('Resting  Electrocardiographic')\n",
    "plt.ylabel('Total')\n",
    "countplt\n",
    "\n",
    "# Count Categorical Labels without dropping Null Values\n",
    "print('\\n Resting Electrocardiographic Results Total \\n')\n",
    "df.sex.value_counts(dropna=False)\n",
    "# print()"
   ]
  },
  {
   "cell_type": "markdown",
   "metadata": {},
   "source": [
    "<div id='1'\n",
    "     style = \"display: fill;\n",
    "              border-radius: 10px;\n",
    "              background-color: #FE6244;\">\n",
    "    <h3 style = \"padding: 15px; \n",
    "                 color: white;\n",
    "                 text-align: left; \n",
    "                 font-family: Trebuchet MS;\"> exang (Exercise Induced Angina)\n",
    "    </h3>\n",
    "</div>"
   ]
  },
  {
   "cell_type": "code",
   "execution_count": null,
   "metadata": {
    "execution": {
     "iopub.execute_input": "2023-04-15T13:20:45.547569Z",
     "iopub.status.busy": "2023-04-15T13:20:45.546852Z",
     "iopub.status.idle": "2023-04-15T13:20:45.891926Z",
     "shell.execute_reply": "2023-04-15T13:20:45.890758Z",
     "shell.execute_reply.started": "2023-04-15T13:20:45.547534Z"
    }
   },
   "outputs": [],
   "source": [
    "labels=['False', 'True']\n",
    "order=df['exang'].value_counts().index\n",
    "\n",
    "# Size for Both Figures\n",
    "plt.figure(figsize= (16,8))\n",
    "plt.suptitle('Exercise Induced Angina Distribution')\n",
    "\n",
    "# Subplot 1 Pie Chart\n",
    "plt.subplot(1,2,1)\n",
    "plt.title('Pie Chart')\n",
    "plt.pie(df['exang'].value_counts(),labels=labels, autopct='%.2f%%', wedgeprops=dict(alpha=0.8))\n",
    "centre=plt.Circle((0, 0), 0.45, fc='white')\n",
    "plt.gcf().gca().add_artist(centre)\n",
    "\n",
    "#Subplot 2 Histogram\n",
    "countplt = plt.subplot(1,2,2)\n",
    "plt.title('Histogram')\n",
    "ax= sns.countplot(x='exang',data=df,order=order)\n",
    "plt.xlabel('Exercise Induced Angina')\n",
    "plt.ylabel('Total')\n",
    "countplt\n",
    "\n",
    "# Count Categorical Labels without dropping Null Values\n",
    "print('\\n Exercise Induced Angina Total \\n')\n",
    "df.sex.value_counts(dropna=False)\n",
    "# print()"
   ]
  },
  {
   "cell_type": "markdown",
   "metadata": {},
   "source": [
    "<div id='1'\n",
    "     style = \"display: fill;\n",
    "              border-radius: 10px;\n",
    "              background-color: #FE6244;\">\n",
    "    <h3 style = \"padding: 15px; \n",
    "                 color: white;\n",
    "                 text-align: left; \n",
    "                 font-family: Trebuchet MS;\"> slope (Slope of the Peak Exercise)\n",
    "    </h3>\n",
    "</div>"
   ]
  },
  {
   "cell_type": "code",
   "execution_count": null,
   "metadata": {
    "execution": {
     "iopub.execute_input": "2023-04-15T13:20:45.894197Z",
     "iopub.status.busy": "2023-04-15T13:20:45.893360Z",
     "iopub.status.idle": "2023-04-15T13:20:46.238567Z",
     "shell.execute_reply": "2023-04-15T13:20:46.237254Z",
     "shell.execute_reply.started": "2023-04-15T13:20:45.894161Z"
    }
   },
   "outputs": [],
   "source": [
    "labels=['2', '1', '0']\n",
    "order=df['slope'].value_counts().index\n",
    "\n",
    "# Size for Both Figures\n",
    "plt.figure(figsize= (16,8))\n",
    "plt.suptitle('Slope of the Peak Exercise Distribution')\n",
    "\n",
    "# Subplot 1 Pie Chart\n",
    "plt.subplot(1,2,1)\n",
    "plt.title('Pie Chart')\n",
    "plt.pie(df['slope'].value_counts(),labels=labels, autopct='%.2f%%', wedgeprops=dict(alpha=0.8))\n",
    "centre=plt.Circle((0, 0), 0.45, fc='white')\n",
    "plt.gcf().gca().add_artist(centre)\n",
    "\n",
    "#Subplot 2 Histogram\n",
    "countplt = plt.subplot(1,2,2)\n",
    "plt.title('Histogram')\n",
    "ax= sns.countplot(x='slope',data=df,order=order)\n",
    "plt.xlabel('Slope')\n",
    "plt.ylabel('Total')\n",
    "countplt\n",
    "\n",
    "# Count Categorical Labels without dropping Null Values\n",
    "print('\\n Slope Total \\n')\n",
    "df.sex.value_counts(dropna=False)\n",
    "# print()"
   ]
  },
  {
   "cell_type": "markdown",
   "metadata": {},
   "source": [
    "<div id='1'\n",
    "     style = \"display: fill;\n",
    "              border-radius: 10px;\n",
    "              background-color: #FE6244;\">\n",
    "    <h3 style = \"padding: 15px; \n",
    "                 color: white;\n",
    "                 text-align: left; \n",
    "                 font-family: Trebuchet MS;\"> ca (Number of Major Vessels)\n",
    "    </h3>\n",
    "</div>"
   ]
  },
  {
   "cell_type": "code",
   "execution_count": null,
   "metadata": {
    "execution": {
     "iopub.execute_input": "2023-04-15T13:20:46.240788Z",
     "iopub.status.busy": "2023-04-15T13:20:46.240127Z",
     "iopub.status.idle": "2023-04-15T13:20:46.621471Z",
     "shell.execute_reply": "2023-04-15T13:20:46.620356Z",
     "shell.execute_reply.started": "2023-04-15T13:20:46.240722Z"
    }
   },
   "outputs": [],
   "source": [
    "labels=['0', '1', '2', '3', '4']\n",
    "order=df['ca'].value_counts().index\n",
    "\n",
    "# Size for Both Figures\n",
    "plt.figure(figsize= (16,8))\n",
    "plt.suptitle('Number of Major Vessels Distribution')\n",
    "\n",
    "# Subplot 1 Pie Chart\n",
    "plt.subplot(1,2,1)\n",
    "plt.title('Pie Chart')\n",
    "plt.pie(df['ca'].value_counts(),labels=labels, autopct='%.2f%%', wedgeprops=dict(alpha=0.8))\n",
    "centre=plt.Circle((0, 0), 0.45, fc='white')\n",
    "plt.gcf().gca().add_artist(centre)\n",
    "\n",
    "#Subplot 2 Histogram\n",
    "countplt = plt.subplot(1,2,2)\n",
    "plt.title('Histogram')\n",
    "ax= sns.countplot(x='ca',data=df,order=order)\n",
    "plt.xlabel('Number of Major Vessels')\n",
    "plt.ylabel('Total')\n",
    "countplt\n",
    "\n",
    "# Count Categorical Labels without dropping Null Values\n",
    "print('\\n Number of Major Vessels Total  \\n')\n",
    "df.sex.value_counts(dropna=False)\n",
    "# print()"
   ]
  },
  {
   "cell_type": "markdown",
   "metadata": {},
   "source": [
    "<div id='1'\n",
    "     style = \"display: fill;\n",
    "              border-radius: 10px;\n",
    "              background-color: #FE6244;\">\n",
    "    <h3 style = \"padding: 15px; \n",
    "                 color: white;\n",
    "                 text-align: left; \n",
    "                 font-family: Trebuchet MS;\"> thal\n",
    "    </h3>\n",
    "</div>"
   ]
  },
  {
   "cell_type": "code",
   "execution_count": null,
   "metadata": {
    "execution": {
     "iopub.execute_input": "2023-04-15T13:20:46.623404Z",
     "iopub.status.busy": "2023-04-15T13:20:46.622969Z",
     "iopub.status.idle": "2023-04-15T13:20:46.992734Z",
     "shell.execute_reply": "2023-04-15T13:20:46.991540Z",
     "shell.execute_reply.started": "2023-04-15T13:20:46.623371Z"
    }
   },
   "outputs": [],
   "source": [
    "labels=['2', '3', '1', '0']\n",
    "order=df['thal'].value_counts().index\n",
    "\n",
    "# Size for Both Figures\n",
    "plt.figure(figsize= (16,8))\n",
    "plt.suptitle('\"thal\" Distribution')\n",
    "\n",
    "# Subplot 1 Pie Chart\n",
    "plt.subplot(1,2,1)\n",
    "plt.title('Pie Chart')\n",
    "plt.pie(df['thal'].value_counts(),labels=labels, autopct='%.2f%%', wedgeprops=dict(alpha=0.8))\n",
    "centre=plt.Circle((0, 0), 0.45, fc='white')\n",
    "plt.gcf().gca().add_artist(centre)\n",
    "\n",
    "#Subplot 2 Histogram\n",
    "countplt = plt.subplot(1,2,2)\n",
    "plt.title('Histogram')\n",
    "ax= sns.countplot(x='thal',data=df,order=order)\n",
    "plt.xlabel('Number of \"thal\"')\n",
    "plt.ylabel('Total')\n",
    "countplt\n",
    "\n",
    "# Count Categorical Labels without dropping Null Values\n",
    "print('\\n \"thal\" Total  \\n')\n",
    "df.sex.value_counts(dropna=False)\n",
    "# print()"
   ]
  },
  {
   "cell_type": "markdown",
   "metadata": {},
   "source": [
    "<div id='1'\n",
    "     style = \"display: fill;\n",
    "              border-radius: 10px;\n",
    "              background-color: #FE6244;\">\n",
    "    <h3 style = \"padding: 15px; \n",
    "                 color: white;\n",
    "                 text-align: left; \n",
    "                 font-family: Trebuchet MS;\"> target (Heart Diseases Status)\n",
    "    </h3>\n",
    "</div>"
   ]
  },
  {
   "cell_type": "code",
   "execution_count": null,
   "metadata": {
    "execution": {
     "iopub.execute_input": "2023-04-15T13:20:46.994551Z",
     "iopub.status.busy": "2023-04-15T13:20:46.994207Z",
     "iopub.status.idle": "2023-04-15T13:20:47.325126Z",
     "shell.execute_reply": "2023-04-15T13:20:47.323842Z",
     "shell.execute_reply.started": "2023-04-15T13:20:46.994520Z"
    }
   },
   "outputs": [],
   "source": [
    "labels=['True', 'False']\n",
    "order=df['target'].value_counts().index\n",
    "\n",
    "# Size for Both Figures\n",
    "plt.figure(figsize= (16,8))\n",
    "plt.suptitle('Heart Diseases Distribution')\n",
    "\n",
    "# Subplot 1 Pie Chart\n",
    "plt.subplot(1,2,1)\n",
    "plt.title('Pie Chart')\n",
    "plt.pie(df['target'].value_counts(),labels=labels, autopct='%.2f%%', wedgeprops=dict(alpha=0.8))\n",
    "centre=plt.Circle((0, 0), 0.45, fc='white')\n",
    "plt.gcf().gca().add_artist(centre)\n",
    "\n",
    "#Subplot 2 Histogram\n",
    "countplt = plt.subplot(1,2,2)\n",
    "plt.title('Histogram')\n",
    "ax= sns.countplot(x='target',data=df,order=order)\n",
    "plt.xlabel('Heart Disease Status')\n",
    "plt.ylabel('Total')\n",
    "countplt\n",
    "\n",
    "# Count Categorical Labels without dropping Null Values\n",
    "print('\\n Heart Diseases Status (target) Total \\n')\n",
    "df.sex.value_counts(dropna=False)\n",
    "# print()"
   ]
  },
  {
   "cell_type": "markdown",
   "metadata": {},
   "source": [
    "<div id='HDG'\n",
    "     style = \"display: fill;\n",
    "              border-radius: 10px;\n",
    "              background-color: #FE6244;\">\n",
    "    <h3 style = \"padding: 15px; \n",
    "                 color: white;\n",
    "                 text-align: left; \n",
    "                 font-family: Trebuchet MS;\"> Heart Disease Distribution Based on Gender\n",
    "    </h3>\n",
    "</div>"
   ]
  },
  {
   "cell_type": "code",
   "execution_count": null,
   "metadata": {
    "execution": {
     "iopub.execute_input": "2023-04-15T13:20:47.327013Z",
     "iopub.status.busy": "2023-04-15T13:20:47.326657Z",
     "iopub.status.idle": "2023-04-15T13:20:47.637423Z",
     "shell.execute_reply": "2023-04-15T13:20:47.636303Z",
     "shell.execute_reply.started": "2023-04-15T13:20:47.326980Z"
    }
   },
   "outputs": [],
   "source": [
    "# --- Labels Settings ---\n",
    "labels = ['False', 'True']\n",
    "label_gender = np.array([0, 1])\n",
    "label_gender2 = ['Male', 'Female']\n",
    "\n",
    "\n",
    "# --- Creating Bar Chart ---\n",
    "ax = pd.crosstab(df.sex, df.target).plot(kind='bar', figsize=(8, 5))\n",
    "\n",
    "\n",
    "# --- Bar Chart Settings ---\n",
    "for rect in ax.patches:\n",
    "    ax.text (rect.get_x()+rect.get_width()/2, \n",
    "             rect.get_height()+1.25,rect.get_height(), \n",
    "             horizontalalignment='center', fontsize=10)\n",
    "\n",
    "plt.suptitle('Heart Disease Distribution based on Gender', fontweight='heavy', \n",
    "             x=0.065, y=0.98, ha='left', fontsize='16', fontfamily='sans-serif')\n",
    "plt.title('Female tend to have heart diseases compared to Male. In male, the distribution is not imbalanced compared to female\\nthat have almost the same distribution', \n",
    "          fontsize='8', fontfamily='sans-serif', loc='left')\n",
    "plt.tight_layout(rect=[0, 0.04, 1, 1.025])\n",
    "plt.xlabel('Gender (Sex)', fontfamily='sans-serif', fontweight='bold')\n",
    "plt.ylabel('Total', fontfamily='sans-serif', fontweight='bold')\n",
    "plt.xticks(label_gender, label_gender2, rotation=0)\n",
    "plt.grid(axis='y', alpha=0.4)\n",
    "plt.grid(axis='x', alpha=0)\n",
    "plt.legend(labels=labels, title='$\\\\bf{Target}$', fontsize='8', \n",
    "           title_fontsize='9', loc='upper left', frameon=True);"
   ]
  },
  {
   "cell_type": "markdown",
   "metadata": {},
   "source": [
    "<div id='HDV'\n",
    "     style = \"display: fill;\n",
    "              border-radius: 10px;\n",
    "              background-color: #FE6244;\">\n",
    "    <h3 style = \"padding: 15px; \n",
    "                 color: white;\n",
    "                 text-align: left; \n",
    "                 font-family: Trebuchet MS;\"> Heart Disease Distribution Based on Major Vessels Total\n",
    "    </h3>\n",
    "</div>"
   ]
  },
  {
   "cell_type": "code",
   "execution_count": null,
   "metadata": {
    "execution": {
     "iopub.execute_input": "2023-04-15T13:20:47.639340Z",
     "iopub.status.busy": "2023-04-15T13:20:47.638988Z",
     "iopub.status.idle": "2023-04-15T13:20:48.115545Z",
     "shell.execute_reply": "2023-04-15T13:20:48.114281Z",
     "shell.execute_reply.started": "2023-04-15T13:20:47.639309Z"
    }
   },
   "outputs": [],
   "source": [
    "# --- Labels Settings ---\n",
    "labels = ['False', 'True']\n",
    "\n",
    "# --- Creating Horizontal Bar Chart ---\n",
    "ax = pd.crosstab(df.ca, df.target).plot(kind='barh', figsize=(8, 5))\n",
    "\n",
    "# --- Horizontal Bar Chart Settings ---\n",
    "for rect in ax.patches:\n",
    "    width, height = rect.get_width(), rect.get_height()\n",
    "    x, y = rect.get_xy()\n",
    "    ax.text (x+width/2, y+height/2, '{:.0f}'.format(width), \n",
    "             horizontalalignment='center', verticalalignment='center')\n",
    "\n",
    "plt.suptitle('Heart Disease Distribution based on Major Vessels Total', \n",
    "             fontweight='heavy', x=0.069, y=0.98, ha='left', fontsize='16', \n",
    "             fontfamily='sans-serif')\n",
    "plt.title('Patients with 0 and 4 major vessels tend to have heart diseases. However, patients who have a number of vessels 1 to 3\\ntend not to have heart diseases.', \n",
    "          fontsize='8', fontfamily='sans-serif', loc='left')\n",
    "\n",
    "plt.tight_layout(rect=[0, 0.04, 1, 1.025])\n",
    "plt.xlabel('Total', fontfamily='sans-serif', fontweight='bold')\n",
    "plt.ylabel('Number of Major Vessels', fontfamily='sans-serif', fontweight='bold')\n",
    "\n",
    "plt.yticks(rotation=0)\n",
    "plt.grid(axis='x', alpha=0.4)\n",
    "plt.grid(axis='y', alpha=0)\n",
    "plt.legend(labels=labels, title='$\\\\bf{Target}$', fontsize='8', frameon=True,\n",
    "           title_fontsize='9', loc='upper right');"
   ]
  },
  {
   "cell_type": "markdown",
   "metadata": {},
   "source": [
    "<div id='HDA'\n",
    "     style = \"display: fill;\n",
    "              border-radius: 10px;\n",
    "              background-color: #FE6244;\">\n",
    "    <h3 style = \"padding: 15px; \n",
    "                 color: white;\n",
    "                 text-align: left; \n",
    "                 font-family: Trebuchet MS;\"> Heart Disease Scatter Plot Based on Age\n",
    "    </h3>\n",
    "</div>"
   ]
  },
  {
   "cell_type": "code",
   "execution_count": null,
   "metadata": {
    "execution": {
     "iopub.execute_input": "2023-04-15T13:20:48.121081Z",
     "iopub.status.busy": "2023-04-15T13:20:48.120486Z",
     "iopub.status.idle": "2023-04-15T13:20:48.550611Z",
     "shell.execute_reply": "2023-04-15T13:20:48.549471Z",
     "shell.execute_reply.started": "2023-04-15T13:20:48.121045Z"
    }
   },
   "outputs": [],
   "source": [
    "# -- Scatter Plot Size & Titles Settings ---\n",
    "plt.figure(figsize=(10, 8))\n",
    "plt.suptitle('Heart Disease Scatter Plot based on Age', fontweight='heavy', \n",
    "             x=0.048, y=0.98, ha='left', fontsize='16', fontfamily='sans-serif')\n",
    "\n",
    "plt.title('Based on age, patients with and without heart diseases mostly between 50-70 years old. Patients with heart diseases tend to have high heart rate\\ncompared to patients with no heart diseases.', \n",
    "          fontsize='8', fontfamily='sans-serif', loc='left')\n",
    "\n",
    "plt.tight_layout(rect=[0, 0.04, 1, 1.01])\n",
    "\n",
    "# --- Creating Scatter Plot ---\n",
    "plt.scatter(x=df.age[df.target==0], y=df.thalach[(df.target==0)])\n",
    "plt.scatter(x=df.age[df.target==1], y=df.thalach[(df.target==1)])\n",
    "\n",
    "# --- Scatter Plot Legend & Labels Settings ---\n",
    "plt.legend(['False', 'True'], title='$\\\\bf{Type}$', fontsize='7', \n",
    "           title_fontsize='8', loc='upper right', frameon=True)\n",
    "\n",
    "plt.xlabel('Age', fontweight='bold', fontsize='11',\n",
    "           fontfamily='sans-serif')\n",
    "\n",
    "plt.ylabel('Max. Heart Rate', fontweight='bold', fontsize='11', \n",
    "           fontfamily='sans-serif')\n",
    "\n",
    "plt.ticklabel_format(style='plain', axis='both')\n",
    "plt.grid(axis='both', alpha=0.4, lw=0.5)\n",
    "plt.show();"
   ]
  },
  {
   "cell_type": "markdown",
   "metadata": {},
   "source": [
    "<div id='HDS'\n",
    "     style = \"display: fill;\n",
    "              border-radius: 10px;\n",
    "              background-color: #FE6244;\">\n",
    "    <h3 style = \"padding: 15px; \n",
    "                 color: white;\n",
    "                 text-align: left; \n",
    "                 font-family: Trebuchet MS;\"> Heart Disease Distribution Based on Fasting Blood Sugar\n",
    "    </h3>\n",
    "</div>"
   ]
  },
  {
   "cell_type": "code",
   "execution_count": null,
   "metadata": {
    "execution": {
     "iopub.execute_input": "2023-04-15T13:20:48.552606Z",
     "iopub.status.busy": "2023-04-15T13:20:48.552294Z",
     "iopub.status.idle": "2023-04-15T13:20:49.246613Z",
     "shell.execute_reply": "2023-04-15T13:20:49.245400Z",
     "shell.execute_reply.started": "2023-04-15T13:20:48.552578Z"
    }
   },
   "outputs": [],
   "source": [
    "# --- Labels Settings ---\n",
    "labels = ['False', 'True']\n",
    "label_gender = np.array([0, 1])\n",
    "label_gender2 = ['< 120 mg/dl', '> 120 mg/dl']\n",
    "\n",
    "# --- Creating Bar Chart ---\n",
    "ax = pd.crosstab(df.fbs, df.target).plot(kind='bar', figsize=(8, 5))\n",
    "\n",
    "# --- Bar Chart Settings ---\n",
    "for rect in ax.patches:\n",
    "    width, height = rect.get_width(), rect.get_height()\n",
    "    x, y = rect.get_xy()\n",
    "    ax.text (x+width/2, y+height/2, '{:.0f}'.format(height), \n",
    "             horizontalalignment='center', verticalalignment='center')\n",
    "\n",
    "plt.suptitle('Heart Disease Distribution based on Fasting Blood Sugar', \n",
    "             fontweight='heavy', x=0.065, y=0.98, ha='left', fontsize='16', \n",
    "             fontfamily='sans-serif')\n",
    "\n",
    "plt.title('The number of patients with low fasting blood sugar is higher compared to patients with high fasting blood sugar. In low\\nfasting blood sugar, patients tend to have heart diseases. Also, the distribution of heart diseases patients with high\\nfasting blood sugar is equally distributed.', \n",
    "          fontsize='8', fontfamily='sans-serif', loc='left')\n",
    "\n",
    "plt.tight_layout(rect=[0, 0.04, 1, 1.025])\n",
    "\n",
    "plt.xlabel('Fasting Blood Sugar', fontfamily='sans-serif', fontweight='bold')\n",
    "\n",
    "plt.ylabel('Total', fontfamily='sans-serif', fontweight='bold')\n",
    "\n",
    "plt.xticks(label_gender, label_gender2, rotation=0)\n",
    "plt.grid(axis='y', alpha=0.4)\n",
    "plt.grid(axis='x', alpha=0)\n",
    "plt.legend(labels=labels, title='$\\\\bf{Target}$', fontsize='8', \n",
    "           title_fontsize='9', loc='upper left', frameon=True);"
   ]
  },
  {
   "cell_type": "markdown",
   "metadata": {},
   "source": [
    "<div id='heatmap'\n",
    "     style = \"display: fill;\n",
    "              border-radius: 10px;\n",
    "              background-color: #FE6244;\">\n",
    "    <h3 style = \"padding: 15px; \n",
    "                 color: white;\n",
    "                 text-align: left; \n",
    "                 font-family: Trebuchet MS;\"> Heatmap\n",
    "    </h3>\n",
    "</div>"
   ]
  },
  {
   "cell_type": "code",
   "execution_count": null,
   "metadata": {
    "execution": {
     "iopub.execute_input": "2023-04-15T13:20:49.248241Z",
     "iopub.status.busy": "2023-04-15T13:20:49.247936Z",
     "iopub.status.idle": "2023-04-15T13:20:49.917236Z",
     "shell.execute_reply": "2023-04-15T13:20:49.915922Z",
     "shell.execute_reply.started": "2023-04-15T13:20:49.248213Z"
    }
   },
   "outputs": [],
   "source": [
    "# --- Correlation Map (Heatmap) ---\n",
    "plt.figure(figsize=(14, 9))\n",
    "\n",
    "sns.heatmap(df.corr(), annot=True, cmap='Reds', linewidths=0.1)\n",
    "\n",
    "plt.suptitle('Correlation Map of Numerical Variables', fontweight='heavy', \n",
    "             x=0.03, y=0.98, ha='left', fontsize='16', fontfamily='sans-serif')\n",
    "\n",
    "plt.title('Resting blood pressure, cholestoral, and \"oldpeak\" have moderate relationship with age.', \n",
    "          fontsize='10', fontfamily='sans-serif', loc='left')\n",
    "plt.tight_layout(rect=[0, 0.04, 1, 1.01])"
   ]
  },
  {
   "cell_type": "markdown",
   "metadata": {},
   "source": [
    "<div id='3'\n",
    "     style = \"display: fill;\n",
    "              border-radius: 10px;\n",
    "              background-color: #19A7CE;\">\n",
    "    <h1 style = \"padding: 20px; \n",
    "                 color: white;\n",
    "                 text-align: left;\n",
    "                 font-family: Trebuchet MS;\"> 3. Data Preprocessing\n",
    "    </h1>\n",
    "</div>"
   ]
  },
  {
   "cell_type": "markdown",
   "metadata": {},
   "source": [
    "<div id='OHE'\n",
    "     style = \"display: fill;\n",
    "              border-radius: 10px;\n",
    "              background-color: #FE6244;\">\n",
    "    <h3 style = \"padding: 15px; \n",
    "                 color: white;\n",
    "                 text-align: left;\n",
    "                 font-family: Trebuchet MS;\">One-Hot Encoding\n",
    "    </h3>\n",
    "</div>"
   ]
  },
  {
   "cell_type": "code",
   "execution_count": null,
   "metadata": {
    "execution": {
     "iopub.execute_input": "2023-04-15T13:20:49.919283Z",
     "iopub.status.busy": "2023-04-15T13:20:49.918827Z",
     "iopub.status.idle": "2023-04-15T13:20:49.953426Z",
     "shell.execute_reply": "2023-04-15T13:20:49.952233Z",
     "shell.execute_reply.started": "2023-04-15T13:20:49.919239Z"
    }
   },
   "outputs": [],
   "source": [
    "# categorical columns\n",
    "cp = pd.get_dummies(df['cp'],prefix= 'cp')\n",
    "thal = pd.get_dummies(df['thal'],prefix = 'thal')\n",
    "slope = pd.get_dummies(df['slope'],prefix = 'slope')\n",
    "\n",
    "#merge dummy variables to main data frame\n",
    "frames = [ df,cp,thal,slope]\n",
    "df = pd.concat(frames,axis=1)\n",
    "\n",
    "#Dropping the unnecessory variables\n",
    "df=df.drop(columns = ['cp','thal','slope'])\n",
    "df.head()"
   ]
  },
  {
   "cell_type": "code",
   "execution_count": null,
   "metadata": {
    "_kg_hide-output": true,
    "execution": {
     "iopub.execute_input": "2023-04-15T13:20:49.955345Z",
     "iopub.status.busy": "2023-04-15T13:20:49.954998Z",
     "iopub.status.idle": "2023-04-15T13:20:49.966506Z",
     "shell.execute_reply": "2023-04-15T13:20:49.965182Z",
     "shell.execute_reply.started": "2023-04-15T13:20:49.955312Z"
    }
   },
   "outputs": [],
   "source": [
    "#Missing values\n",
    "df.isnull().sum()"
   ]
  },
  {
   "cell_type": "markdown",
   "metadata": {},
   "source": [
    "<div id='FS'\n",
    "     style = \"display: fill;\n",
    "              border-radius: 10px;\n",
    "              background-color: #FE6244;\">\n",
    "    <h3 style = \"padding: 15px; \n",
    "                 color: white;\n",
    "                 text-align: left;\n",
    "                 font-family: Trebuchet MS;\">Separating Target Variable\n",
    "    </h3>\n",
    "</div>"
   ]
  },
  {
   "cell_type": "code",
   "execution_count": null,
   "metadata": {
    "execution": {
     "iopub.execute_input": "2023-04-15T13:20:49.968221Z",
     "iopub.status.busy": "2023-04-15T13:20:49.967892Z",
     "iopub.status.idle": "2023-04-15T13:20:49.980010Z",
     "shell.execute_reply": "2023-04-15T13:20:49.978710Z",
     "shell.execute_reply.started": "2023-04-15T13:20:49.968190Z"
    }
   },
   "outputs": [],
   "source": [
    "#Declaring Dependent and Independent variables\n",
    "X = df.drop(['target'],axis=1)\n",
    "y = df['target']"
   ]
  },
  {
   "cell_type": "markdown",
   "metadata": {},
   "source": [
    "<div id='DN'\n",
    "     style = \"display: fill;\n",
    "              border-radius: 10px;\n",
    "              background-color: #FE6244;\">\n",
    "    <h3 style = \"padding: 15px; \n",
    "                 color: white;\n",
    "                 text-align: left;\n",
    "                 font-family: Trebuchet MS;\">Data Normalization\n",
    "    </h3>\n",
    "</div>"
   ]
  },
  {
   "cell_type": "code",
   "execution_count": null,
   "metadata": {
    "execution": {
     "iopub.execute_input": "2023-04-15T13:20:49.981555Z",
     "iopub.status.busy": "2023-04-15T13:20:49.981238Z",
     "iopub.status.idle": "2023-04-15T13:20:49.999233Z",
     "shell.execute_reply": "2023-04-15T13:20:49.998138Z",
     "shell.execute_reply.started": "2023-04-15T13:20:49.981526Z"
    }
   },
   "outputs": [],
   "source": [
    "X = MinMaxScaler().fit_transform(X)"
   ]
  },
  {
   "cell_type": "markdown",
   "metadata": {},
   "source": [
    "<div id='STTD'\n",
    "     style = \"display: fill;\n",
    "              border-radius: 10px;\n",
    "              background-color: #FE6244;\">\n",
    "    <h3 style = \"padding: 15px; \n",
    "                 color: white;\n",
    "                 text-align: left;\n",
    "                 font-family: Trebuchet MS;\"> Splitting Training and Testing Dataset\n",
    "    </h3>\n",
    "</div>"
   ]
  },
  {
   "cell_type": "code",
   "execution_count": null,
   "metadata": {
    "execution": {
     "iopub.execute_input": "2023-04-15T13:20:50.001100Z",
     "iopub.status.busy": "2023-04-15T13:20:50.000646Z",
     "iopub.status.idle": "2023-04-15T13:20:50.010818Z",
     "shell.execute_reply": "2023-04-15T13:20:50.009838Z",
     "shell.execute_reply.started": "2023-04-15T13:20:50.001068Z"
    }
   },
   "outputs": [],
   "source": [
    "#Splitting x and y into training and testing datasets\n",
    "\n",
    "X_train,X_test,y_train,y_test = train_test_split(X,y, test_size=0.2,random_state=4)"
   ]
  },
  {
   "cell_type": "code",
   "execution_count": null,
   "metadata": {
    "execution": {
     "iopub.execute_input": "2023-04-15T13:20:50.013793Z",
     "iopub.status.busy": "2023-04-15T13:20:50.012870Z",
     "iopub.status.idle": "2023-04-15T13:20:50.026274Z",
     "shell.execute_reply": "2023-04-15T13:20:50.025114Z",
     "shell.execute_reply.started": "2023-04-15T13:20:50.013726Z"
    }
   },
   "outputs": [],
   "source": [
    "#checking the shape of X_train and X_test\n",
    "X_train.shape, X_test.shape"
   ]
  },
  {
   "cell_type": "markdown",
   "metadata": {},
   "source": [
    "<div id='4'\n",
    "     style = \"display: fill;\n",
    "              border-radius: 10px;\n",
    "              background-color: #19A7CE;\">\n",
    "    <h1 style = \"padding: 20px; \n",
    "                 color: white;\n",
    "                 text-align: left;\n",
    "                 font-family: Trebuchet MS;\">4. Model Training\n",
    "    </h1>\n",
    "</div>"
   ]
  },
  {
   "cell_type": "markdown",
   "metadata": {},
   "source": [
    "<div id='LR'\n",
    "     style = \"display: fill;\n",
    "              border-radius: 10px;\n",
    "              background-color: #FE6244;\">\n",
    "    <h3 style = \"padding: 15px; \n",
    "                 color: white;\n",
    "                 text-align: left;\n",
    "                 font-family: Trebuchet MS;\">1. Logistic Regression\n",
    "    </h3>\n",
    "</div>"
   ]
  },
  {
   "cell_type": "code",
   "execution_count": null,
   "metadata": {
    "execution": {
     "iopub.execute_input": "2023-04-15T13:20:50.029153Z",
     "iopub.status.busy": "2023-04-15T13:20:50.028364Z",
     "iopub.status.idle": "2023-04-15T13:20:50.061204Z",
     "shell.execute_reply": "2023-04-15T13:20:50.060044Z",
     "shell.execute_reply.started": "2023-04-15T13:20:50.029109Z"
    }
   },
   "outputs": [],
   "source": [
    "LRmodel = LogisticRegression()\n",
    "\n",
    "# Train Adaboost Classifer\n",
    "LRmodel.fit(X_train, y_train)\n",
    "\n",
    "#Predict the response for test dataset\n",
    "y_pred = LRmodel.predict(X_test)\n",
    "LRA=accuracy_score(y_test, y_pred)\n",
    "print(\"Logistic Regression Model Accuracy:\", LRA)"
   ]
  },
  {
   "cell_type": "markdown",
   "metadata": {},
   "source": [
    "<div id='KNN'\n",
    "     style = \"display: fill;\n",
    "              border-radius: 10px;\n",
    "              background-color: #FE6244;\">\n",
    "    <h3 style = \"padding: 15px; \n",
    "                 color: white;\n",
    "                 text-align: left;\n",
    "                 font-family: Trebuchet MS;\">2. K-Neartest Neighbours\n",
    "    </h3>\n",
    "</div>"
   ]
  },
  {
   "cell_type": "code",
   "execution_count": null,
   "metadata": {
    "execution": {
     "iopub.execute_input": "2023-04-15T13:20:50.063016Z",
     "iopub.status.busy": "2023-04-15T13:20:50.062591Z",
     "iopub.status.idle": "2023-04-15T13:20:50.093671Z",
     "shell.execute_reply": "2023-04-15T13:20:50.092052Z",
     "shell.execute_reply.started": "2023-04-15T13:20:50.062974Z"
    }
   },
   "outputs": [],
   "source": [
    "KNNmodel = KNeighborsClassifier()\n",
    "\n",
    "# Train K-Nearest Neighbor Classifer\n",
    "KNNmodel.fit(X_train, y_train)\n",
    "\n",
    "#Predict the response for test dataset\n",
    "y_pred = KNNmodel.predict(X_test)\n",
    "\n",
    "KNNA=accuracy_score(y_test, y_pred)\n",
    "print(\"K-Nearest Neighbors Model Accuracy:\",KNNA)"
   ]
  },
  {
   "cell_type": "markdown",
   "metadata": {},
   "source": [
    "<div id='SVM'\n",
    "     style = \"display: fill;\n",
    "              border-radius: 10px;\n",
    "              background-color: #FE6244;\">\n",
    "    <h3 style = \"padding: 15px; \n",
    "                 color: white;\n",
    "                 text-align: left;\n",
    "                 font-family: Trebuchet MS;\"> 3. Support Vector Machine (SVM)\n",
    "    </h3>\n",
    "</div>"
   ]
  },
  {
   "cell_type": "code",
   "execution_count": null,
   "metadata": {
    "execution": {
     "iopub.execute_input": "2023-04-15T13:20:50.104996Z",
     "iopub.status.busy": "2023-04-15T13:20:50.101063Z",
     "iopub.status.idle": "2023-04-15T13:20:50.185375Z",
     "shell.execute_reply": "2023-04-15T13:20:50.184103Z",
     "shell.execute_reply.started": "2023-04-15T13:20:50.104923Z"
    }
   },
   "outputs": [],
   "source": [
    "SVMmodel = SVC()\n",
    "\n",
    "# Train Support Vector Machine(SVM)\n",
    "SVMmodel.fit(X_train, y_train)\n",
    "\n",
    "#Predict the response for test dataset\n",
    "y_pred = SVMmodel.predict(X_test)\n",
    "\n",
    "SVMA= accuracy_score(y_test, y_pred)\n",
    "\n",
    "print(\"Support Vector Machine Model Accuracy:\", SVMA)"
   ]
  },
  {
   "cell_type": "markdown",
   "metadata": {},
   "source": [
    "<div id='NB'\n",
    "     style = \"display: fill;\n",
    "              border-radius: 10px;\n",
    "              background-color: #FE6244;\">\n",
    "    <h3 style = \"padding: 15px; \n",
    "                 color: white;\n",
    "                 text-align: left;\n",
    "                 font-family: Trebuchet MS;\">4. Gaussian Naive Bayes\n",
    "    </h3>\n",
    "</div>"
   ]
  },
  {
   "cell_type": "code",
   "execution_count": null,
   "metadata": {
    "execution": {
     "iopub.execute_input": "2023-04-15T13:20:50.187948Z",
     "iopub.status.busy": "2023-04-15T13:20:50.187101Z",
     "iopub.status.idle": "2023-04-15T13:20:50.199510Z",
     "shell.execute_reply": "2023-04-15T13:20:50.198198Z",
     "shell.execute_reply.started": "2023-04-15T13:20:50.187903Z"
    }
   },
   "outputs": [],
   "source": [
    "GNBmodel = GaussianNB()\n",
    "\n",
    "# Train Gaussian Naive Bayes(SVM)\n",
    "GNBmodel.fit(X_train, y_train)\n",
    "\n",
    "#Predict the response for test dataset\n",
    "y_pred = GNBmodel.predict(X_test)\n",
    "\n",
    "GNBA=accuracy_score(y_test, y_pred)\n",
    "print(\"Gaussian Naive Bayes Model Accuracy:\",GNBA )"
   ]
  },
  {
   "cell_type": "markdown",
   "metadata": {},
   "source": [
    "<div id='DT'\n",
    "     style = \"display: fill;\n",
    "              border-radius: 10px;\n",
    "              background-color: #FE6244;\">\n",
    "    <h3 style = \"padding: 15px; \n",
    "                 color: white;\n",
    "                 text-align: left;\n",
    "                 font-family: Trebuchet MS;\">5. Decision Tree\n",
    "    </h3>\n",
    "</div>"
   ]
  },
  {
   "cell_type": "code",
   "execution_count": null,
   "metadata": {
    "execution": {
     "iopub.execute_input": "2023-04-15T13:20:50.201153Z",
     "iopub.status.busy": "2023-04-15T13:20:50.200749Z",
     "iopub.status.idle": "2023-04-15T13:20:50.213219Z",
     "shell.execute_reply": "2023-04-15T13:20:50.212055Z",
     "shell.execute_reply.started": "2023-04-15T13:20:50.201121Z"
    }
   },
   "outputs": [],
   "source": [
    "DTmodel = DecisionTreeClassifier()\n",
    "\n",
    "# Train Decision Tree(SVM)\n",
    "DTmodel.fit(X_train, y_train)\n",
    "\n",
    "#Predict the response for test dataset\n",
    "y_pred = DTmodel.predict(X_test)\n",
    "\n",
    "DTA =accuracy_score(y_test, y_pred)\n",
    "print(\"Decision Tree Model Accuracy:\", DTA )"
   ]
  },
  {
   "cell_type": "code",
   "execution_count": null,
   "metadata": {
    "execution": {
     "iopub.execute_input": "2023-04-15T13:20:50.215280Z",
     "iopub.status.busy": "2023-04-15T13:20:50.214811Z",
     "iopub.status.idle": "2023-04-15T13:20:50.227263Z",
     "shell.execute_reply": "2023-04-15T13:20:50.225769Z",
     "shell.execute_reply.started": "2023-04-15T13:20:50.215238Z"
    }
   },
   "outputs": [],
   "source": [
    "feature_names=df.drop(['target'],axis=1).columns\n",
    "class_names=['0','1']"
   ]
  },
  {
   "cell_type": "code",
   "execution_count": null,
   "metadata": {
    "execution": {
     "iopub.execute_input": "2023-04-15T13:20:50.229607Z",
     "iopub.status.busy": "2023-04-15T13:20:50.228896Z",
     "iopub.status.idle": "2023-04-15T13:20:50.326304Z",
     "shell.execute_reply": "2023-04-15T13:20:50.324827Z",
     "shell.execute_reply.started": "2023-04-15T13:20:50.229560Z"
    }
   },
   "outputs": [],
   "source": [
    "dot_data=tree.export_graphviz(DTmodel,out_file=None,\n",
    "                             feature_names=feature_names,\n",
    "                             class_names=class_names,\n",
    "                             filled=True,rounded=True,special_characters=True)\n",
    "graph=graphviz.Source(dot_data,format='png')\n",
    "graph"
   ]
  },
  {
   "cell_type": "markdown",
   "metadata": {},
   "source": [
    "<div id='RF'\n",
    "     style = \"display: fill;\n",
    "              border-radius: 10px;\n",
    "              background-color: #FE6244;\">\n",
    "    <h3 style = \"padding: 15px; \n",
    "                 color: white;\n",
    "                 text-align: left;\n",
    "                 font-family: Trebuchet MS;\">6. Random Forest\n",
    "    </h3>\n",
    "</div>"
   ]
  },
  {
   "cell_type": "code",
   "execution_count": null,
   "metadata": {
    "execution": {
     "iopub.execute_input": "2023-04-15T13:20:50.328611Z",
     "iopub.status.busy": "2023-04-15T13:20:50.328198Z",
     "iopub.status.idle": "2023-04-15T13:20:50.549036Z",
     "shell.execute_reply": "2023-04-15T13:20:50.547859Z",
     "shell.execute_reply.started": "2023-04-15T13:20:50.328572Z"
    }
   },
   "outputs": [],
   "source": [
    "RFmodel = RandomForestClassifier()\n",
    "\n",
    "# Random Forest\n",
    "RFmodel.fit(X_train, y_train)\n",
    "\n",
    "#Predict the response for test dataset\n",
    "y_pred = RFmodel.predict(X_test)\n",
    "RFA = accuracy_score(y_test, y_pred)\n",
    "print(\"Random Forest Accuracy:\", RFA)"
   ]
  },
  {
   "cell_type": "markdown",
   "metadata": {},
   "source": [
    "<div id='GB'\n",
    "     style = \"display: fill;\n",
    "              border-radius: 10px;\n",
    "              background-color: #FE6244;\">\n",
    "    <h3 style = \"padding: 15px; \n",
    "                 color: white;\n",
    "                 text-align: left;\n",
    "                 font-family: Trebuchet MS;\">7. Gradient Boosting\n",
    "    </h3>\n",
    "</div>"
   ]
  },
  {
   "cell_type": "code",
   "execution_count": null,
   "metadata": {
    "execution": {
     "iopub.execute_input": "2023-04-15T13:20:50.551032Z",
     "iopub.status.busy": "2023-04-15T13:20:50.550634Z",
     "iopub.status.idle": "2023-04-15T13:20:50.724738Z",
     "shell.execute_reply": "2023-04-15T13:20:50.723491Z",
     "shell.execute_reply.started": "2023-04-15T13:20:50.550999Z"
    }
   },
   "outputs": [],
   "source": [
    "GBmodel = GradientBoostingClassifier()\n",
    "\n",
    "# Train Gradient Boosting Classifer\n",
    "GBmodel.fit(X_train, y_train)\n",
    "\n",
    "#Predict the response for test dataset\n",
    "y_pred = GBmodel.predict(X_test)\n",
    "\n",
    "GBA=accuracy_score(y_test, y_pred)\n",
    "print(\"Gradient Boosting Classifier Model Accuracy:\", GBA)"
   ]
  },
  {
   "cell_type": "markdown",
   "metadata": {},
   "source": [
    "<div id='AB'\n",
    "     style = \"display: fill;\n",
    "              border-radius: 10px;\n",
    "              background-color: #FE6244;\">\n",
    "    <h3 style = \"padding: 15px; \n",
    "                 color: white;\n",
    "                 text-align: left;\n",
    "                 font-family: Trebuchet MS;\">8. AdaBoost\n",
    "    </h3>\n",
    "</div>"
   ]
  },
  {
   "cell_type": "code",
   "execution_count": null,
   "metadata": {
    "execution": {
     "iopub.execute_input": "2023-04-15T13:20:50.726571Z",
     "iopub.status.busy": "2023-04-15T13:20:50.726230Z",
     "iopub.status.idle": "2023-04-15T13:20:50.745370Z",
     "shell.execute_reply": "2023-04-15T13:20:50.744458Z",
     "shell.execute_reply.started": "2023-04-15T13:20:50.726530Z"
    }
   },
   "outputs": [],
   "source": [
    "ABmodel = AdaBoostClassifier(n_estimators=3)\n",
    "\n",
    "# Train Adaboost Classifer\n",
    "ABmodel.fit(X_train, y_train)\n",
    "\n",
    "#Predict the response for test dataset\n",
    "y_pred = ABmodel.predict(X_test)\n",
    "\n",
    "ABA=accuracy_score(y_test, y_pred)\n",
    "print(\"AdaBoost Classifier Model Accuracy:\", ABA)"
   ]
  },
  {
   "cell_type": "markdown",
   "metadata": {},
   "source": [
    "<div id='ETC'\n",
    "     style = \"display: fill;\n",
    "              border-radius: 10px;\n",
    "              background-color: #FE6244;\">\n",
    "    <h3 style = \"padding: 15px; \n",
    "                 color: white;\n",
    "                 text-align: left;\n",
    "                 font-family: Trebuchet MS;\">9. Extra Tree Classifier\n",
    "    </h3>\n",
    "</div>"
   ]
  },
  {
   "cell_type": "code",
   "execution_count": null,
   "metadata": {
    "execution": {
     "iopub.execute_input": "2023-04-15T13:20:50.746992Z",
     "iopub.status.busy": "2023-04-15T13:20:50.746518Z",
     "iopub.status.idle": "2023-04-15T13:20:50.934682Z",
     "shell.execute_reply": "2023-04-15T13:20:50.933454Z",
     "shell.execute_reply.started": "2023-04-15T13:20:50.746948Z"
    }
   },
   "outputs": [],
   "source": [
    "ETCmodel = ExtraTreesClassifier()\n",
    "\n",
    "# Train Extra Tree Classifer\n",
    "ETCmodel.fit(X_train, y_train)\n",
    "\n",
    "#Predict the response for test dataset\n",
    "y_pred = ETCmodel.predict(X_test)\n",
    "\n",
    "ETCA= accuracy_score(y_test, y_pred)\n",
    "print(\"Extra Tree Classifier Model Accuracy:\", ETCA)"
   ]
  },
  {
   "cell_type": "markdown",
   "metadata": {},
   "source": [
    "<div id='MC'\n",
    "     style = \"display: fill;\n",
    "              border-radius: 10px;\n",
    "              background-color: #FE6244;\">\n",
    "    <h3 style = \"padding: 20px; \n",
    "                 color: white;\n",
    "                 text-align: left;\n",
    "                 font-family: Trebuchet MS;\"> Model Comparison\n",
    "    </h3>\n",
    "</div>"
   ]
  },
  {
   "cell_type": "code",
   "execution_count": null,
   "metadata": {
    "execution": {
     "iopub.execute_input": "2023-04-15T13:20:50.937242Z",
     "iopub.status.busy": "2023-04-15T13:20:50.936436Z",
     "iopub.status.idle": "2023-04-15T13:20:50.957607Z",
     "shell.execute_reply": "2023-04-15T13:20:50.956420Z",
     "shell.execute_reply.started": "2023-04-15T13:20:50.937185Z"
    }
   },
   "outputs": [],
   "source": [
    "compare = pd.DataFrame({'Model': ['Logistic Regression', 'K-Nearest Neighbour', 'Support Vector Machine', \n",
    "                                  'Gaussian Naive Bayes', 'Decision Tree', 'Random Forest', 'Gradient Boosting', \n",
    "                                  'AdaBoost','Extra Tree Classifier'], \n",
    "                        'Accuracy': [LRA*100, KNNA*100, SVMA*100, GNBA*100, DTA*100, RFA*100, GBA*100, \n",
    "                                     ABA*100, ETCA*100]})\n",
    "\n",
    "# --- Create Accuracy Comparison Table ---\n",
    "compare.style.hide_index().set_properties(**{'font-family': 'Segoe UI'})"
   ]
  },
  {
   "cell_type": "markdown",
   "metadata": {},
   "source": [
    "<div id='5'\n",
    "     style = \"display: fill;\n",
    "              border-radius: 10px;\n",
    "              background-color: #19A7CE;\">\n",
    "    <h1 style = \"padding: 20px; \n",
    "                 color: white;\n",
    "                 text-align: left;\n",
    "                 font-family: Trebuchet MS;\">5. Evaluation\n",
    "    </h1>\n",
    "</div>"
   ]
  },
  {
   "cell_type": "markdown",
   "metadata": {},
   "source": [
    "<div id='ACC'\n",
    "     style = \"display: fill;\n",
    "              border-radius: 10px;\n",
    "              background-color: #FE6244;\">\n",
    "    <h3 style = \"padding: 15px; \n",
    "                 color: white;\n",
    "                 text-align: left;\n",
    "                 font-family: Trebuchet MS;\">Accuracy\n",
    "    </h3>\n",
    "</div>"
   ]
  },
  {
   "cell_type": "code",
   "execution_count": null,
   "metadata": {
    "execution": {
     "iopub.execute_input": "2023-04-15T13:20:50.960616Z",
     "iopub.status.busy": "2023-04-15T13:20:50.959644Z",
     "iopub.status.idle": "2023-04-15T13:20:50.977661Z",
     "shell.execute_reply": "2023-04-15T13:20:50.976504Z",
     "shell.execute_reply.started": "2023-04-15T13:20:50.960569Z"
    }
   },
   "outputs": [],
   "source": [
    "y_pred = DTmodel.predict(X_test)\n",
    "y_pred_train = DTmodel.predict(X_train)\n",
    "from sklearn.metrics import accuracy_score\n",
    "print(\"Model Test Accuracy : {0:0.4f}\".format(accuracy_score(y_test,y_pred)))\n",
    "print(\"Model Train Accuracy : {0:0.4f}\".format(accuracy_score(y_train,y_pred_train)))"
   ]
  },
  {
   "cell_type": "markdown",
   "metadata": {},
   "source": [
    "<div id='CM'\n",
    "     style = \"display: fill;\n",
    "              border-radius: 10px;\n",
    "              background-color: #FE6244;\">\n",
    "    <h3 style = \"padding: 15px; \n",
    "                 color: white;\n",
    "                 text-align: left;\n",
    "                 font-family: Trebuchet MS;\">Confusion Matrix\n",
    "    </h3>\n",
    "</div>"
   ]
  },
  {
   "cell_type": "code",
   "execution_count": null,
   "metadata": {
    "_kg_hide-output": true,
    "execution": {
     "iopub.execute_input": "2023-04-15T13:20:50.980514Z",
     "iopub.status.busy": "2023-04-15T13:20:50.979661Z",
     "iopub.status.idle": "2023-04-15T13:20:50.991000Z",
     "shell.execute_reply": "2023-04-15T13:20:50.989652Z",
     "shell.execute_reply.started": "2023-04-15T13:20:50.980468Z"
    }
   },
   "outputs": [],
   "source": [
    "from sklearn.metrics import confusion_matrix\n",
    "cm = confusion_matrix(y_test,y_pred)\n",
    "print('Confusion Matrix\\n\\n',cm)\n",
    "print('\\nTrue Positives(TP) = ', cm[0,0])\n",
    "print('\\nTrue Negatives(TN) = ', cm[1,1])\n",
    "print('\\nFalse Positives(FP) = ', cm[0,1])\n",
    "print('\\nFalse Negatives(FN) = ', cm[1,0])"
   ]
  },
  {
   "cell_type": "code",
   "execution_count": null,
   "metadata": {
    "execution": {
     "iopub.execute_input": "2023-04-15T13:20:50.993249Z",
     "iopub.status.busy": "2023-04-15T13:20:50.992734Z",
     "iopub.status.idle": "2023-04-15T13:20:51.318596Z",
     "shell.execute_reply": "2023-04-15T13:20:51.317415Z",
     "shell.execute_reply.started": "2023-04-15T13:20:50.993195Z"
    }
   },
   "outputs": [],
   "source": [
    "sns.heatmap(cm,annot= True, fmt='d', cmap='mako')"
   ]
  },
  {
   "cell_type": "markdown",
   "metadata": {},
   "source": [
    "<div id='CR'\n",
    "     style = \"display: fill;\n",
    "              border-radius: 10px;\n",
    "              background-color: #FE6244;\">\n",
    "    <h3 style = \"padding: 15px; \n",
    "                 color: white;\n",
    "                 text-align: left;\n",
    "                 font-family: Trebuchet MS;\"> Classification Report\n",
    "    </h3>\n",
    "</div>"
   ]
  },
  {
   "cell_type": "code",
   "execution_count": null,
   "metadata": {
    "execution": {
     "iopub.execute_input": "2023-04-15T13:20:51.321183Z",
     "iopub.status.busy": "2023-04-15T13:20:51.320139Z",
     "iopub.status.idle": "2023-04-15T13:20:51.334034Z",
     "shell.execute_reply": "2023-04-15T13:20:51.332815Z",
     "shell.execute_reply.started": "2023-04-15T13:20:51.321132Z"
    }
   },
   "outputs": [],
   "source": [
    "from sklearn.metrics import classification_report\n",
    "print(classification_report(y_test,y_pred))"
   ]
  },
  {
   "cell_type": "markdown",
   "metadata": {},
   "source": [
    "<div id='SCM'\n",
    "     style = \"display: fill;\n",
    "              border-radius: 10px;\n",
    "              background-color: #FE6244;\">\n",
    "    <h3 style = \"padding: 15px; \n",
    "                 color: white;\n",
    "                 text-align: left;\n",
    "                 font-family: Trebuchet MS;\"> Scores from Confusion Matrix\n",
    "    </h3>\n",
    "</div>"
   ]
  },
  {
   "cell_type": "code",
   "execution_count": null,
   "metadata": {
    "execution": {
     "iopub.execute_input": "2023-04-15T13:20:51.336410Z",
     "iopub.status.busy": "2023-04-15T13:20:51.335930Z",
     "iopub.status.idle": "2023-04-15T13:20:51.350327Z",
     "shell.execute_reply": "2023-04-15T13:20:51.348753Z",
     "shell.execute_reply.started": "2023-04-15T13:20:51.336370Z"
    }
   },
   "outputs": [],
   "source": [
    "TP = cm[0,0]\n",
    "TN = cm[1,1]\n",
    "FP = cm[0,1]\n",
    "FN = cm[1,0]\n",
    "\n",
    "# print classification accuracy\n",
    "classification_accuracy = (TP + TN) / float(TP + TN + FP + FN)\n",
    "print('Classification accuracy : {0:0.4f}'.format(classification_accuracy))\n",
    "\n",
    "# print classification error\n",
    "classification_error = (FP + FN) / float(TP + TN + FP + FN)\n",
    "print('Classification error : {0:0.4f}'.format(classification_error))\n",
    "\n",
    "# print precision score\n",
    "precision = TP / float(TP + FP)\n",
    "print('Precision : {0:0.4f}'.format(precision))\n",
    "\n",
    "#print recall score\n",
    "recall = TP / float(TP + FN)\n",
    "print('Recall or Sensitivity : {0:0.4f}'.format(recall))\n",
    "\n",
    "#true positive rate\n",
    "true_positive_rate = TP / float(TP + FN)\n",
    "print('True Positive Rate : {0:0.4f}'.format(true_positive_rate))\n",
    "\n",
    "\n",
    "#false positive rate\n",
    "false_positive_rate = FP / float(FP + TN)\n",
    "print('False Positive Rate : {0:0.4f}'.format(false_positive_rate))\n",
    "\n",
    "#Specificity\n",
    "specificity = TN / (TN + FP)\n",
    "print('Specificity : {0:0.4f}'.format(specificity))"
   ]
  },
  {
   "cell_type": "markdown",
   "metadata": {},
   "source": [
    "<div id='ROC'\n",
    "     style = \"display: fill;\n",
    "              border-radius: 10px;\n",
    "              background-color: #FE6244;\">\n",
    "    <h3 style = \"padding: 15px; \n",
    "                 color: white;\n",
    "                 text-align: left;\n",
    "                 font-family: Trebuchet MS;\">ROC Curve\n",
    "    </h3>\n",
    "</div>"
   ]
  },
  {
   "cell_type": "code",
   "execution_count": null,
   "metadata": {
    "execution": {
     "iopub.execute_input": "2023-04-15T13:20:51.352682Z",
     "iopub.status.busy": "2023-04-15T13:20:51.352234Z",
     "iopub.status.idle": "2023-04-15T13:20:51.620141Z",
     "shell.execute_reply": "2023-04-15T13:20:51.619097Z",
     "shell.execute_reply.started": "2023-04-15T13:20:51.352644Z"
    }
   },
   "outputs": [],
   "source": [
    "from sklearn import metrics\n",
    "metrics.plot_roc_curve(DTmodel,X_test,y_test)\n",
    "plt.show()\n"
   ]
  },
  {
   "cell_type": "markdown",
   "metadata": {},
   "source": [
    "<div id='AUC'\n",
    "     style = \"display: fill;\n",
    "              border-radius: 10px;\n",
    "              background-color: #FE6244;\">\n",
    "    <h3 style = \"padding: 15px; \n",
    "                 color: white;\n",
    "                 text-align: left;\n",
    "                 font-family: Trebuchet MS;\">ROC AUC Score\n",
    "    </h3>\n",
    "</div>"
   ]
  },
  {
   "cell_type": "code",
   "execution_count": null,
   "metadata": {
    "execution": {
     "iopub.execute_input": "2023-04-15T13:20:51.627475Z",
     "iopub.status.busy": "2023-04-15T13:20:51.626457Z",
     "iopub.status.idle": "2023-04-15T13:20:51.636595Z",
     "shell.execute_reply": "2023-04-15T13:20:51.635306Z",
     "shell.execute_reply.started": "2023-04-15T13:20:51.627434Z"
    }
   },
   "outputs": [],
   "source": [
    "# compute ROC AUC\n",
    "# store the predicted probabilities for class 1 - Probability of >50K\n",
    "\n",
    "y_pred1 = DTmodel.predict_proba(X_test)[:, 1]\n",
    "from sklearn.metrics import roc_auc_score\n",
    "\n",
    "ROC_AUC = roc_auc_score(y_test, y_pred1)\n",
    "\n",
    "print('ROC AUC : {:.4f}'.format(ROC_AUC))"
   ]
  },
  {
   "cell_type": "markdown",
   "metadata": {},
   "source": [
    "<div id='LC'\n",
    "     style = \"display: fill;\n",
    "              border-radius: 10px;\n",
    "              background-color: #FE6244;\">\n",
    "    <h3 style = \"padding: 15px; \n",
    "                 color: white;\n",
    "                 text-align: left;\n",
    "                 font-family: Trebuchet MS;\">Learning Curve\n",
    "    </h3>\n",
    "</div>"
   ]
  },
  {
   "cell_type": "code",
   "execution_count": null,
   "metadata": {
    "execution": {
     "iopub.execute_input": "2023-04-15T13:20:51.638454Z",
     "iopub.status.busy": "2023-04-15T13:20:51.637998Z",
     "iopub.status.idle": "2023-04-15T13:20:52.007916Z",
     "shell.execute_reply": "2023-04-15T13:20:52.006583Z",
     "shell.execute_reply.started": "2023-04-15T13:20:51.638423Z"
    }
   },
   "outputs": [],
   "source": [
    "dtclc = LearningCurve(DTmodel, title='Decision Tree Learning Curve')\n",
    "dtclc.fit(X_train, y_train)\n",
    "dtclc.show()"
   ]
  },
  {
   "cell_type": "markdown",
   "metadata": {},
   "source": [
    "<div id='6'\n",
    "     style = \"display: fill;\n",
    "              border-radius: 10px;\n",
    "              background-color: #0E8388;\">\n",
    "    <h1 style = \"padding: 30px; \n",
    "                 color: white;\n",
    "                 font-weight:600;\n",
    "                 font-size:50px;\n",
    "                 text-align: CENTER;\n",
    "                 font-family: Tilt Warp;\">PLEASE UPVOTE IF IT HELPED\n",
    "    </h1>\n",
    "</div>"
   ]
  },
  {
   "cell_type": "code",
   "execution_count": null,
   "metadata": {},
   "outputs": [],
   "source": []
  }
 ],
 "metadata": {
  "kernelspec": {
   "display_name": "Python 3 (ipykernel)",
   "language": "python",
   "name": "python3"
  },
  "language_info": {
   "codemirror_mode": {
    "name": "ipython",
    "version": 3
   },
   "file_extension": ".py",
   "mimetype": "text/x-python",
   "name": "python",
   "nbconvert_exporter": "python",
   "pygments_lexer": "ipython3",
   "version": "3.11.4"
  }
 },
 "nbformat": 4,
 "nbformat_minor": 4
}
